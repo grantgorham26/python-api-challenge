


# Dependencies and Setup
import matplotlib.pyplot as plt
import pandas as pd
import numpy as np
import requests
import time
import scipy.stats as st
from scipy.stats import linregress
from pprint import pprint
# Impor the OpenWeatherMap API key
from api_keys import weather_api_key
#https://www.geeksforgeeks.org/get-current-date-using-python/
from datetime import date
today=date.today()
# Import citipy to determine the cities based on latitude and longitude
from citipy import citipy





# Empty list for holding the latitude and longitude combinations
lat_lngs = []

# Empty list for holding the cities names
cities = []

# Range of latitudes and longitudes
lat_range = (-90, 90)
lng_range = (-180, 180)

# Create a set of random lat and lng combinations
lats = np.random.uniform(lat_range[0], lat_range[1], size=1500)
lngs = np.random.uniform(lng_range[0], lng_range[1], size=1500)
lat_lngs = zip(lats, lngs)

# Identify nearest city for each lat, lng combination
for lat_lng in lat_lngs:
    city = citipy.nearest_city(lat_lng[0], lat_lng[1]).city_name
    
    # If the city is unique, then add it to a our cities list
    if city not in cities:
        cities.append(city)

# Print the city count to confirm sufficient count
print(f"Number of cities in the list: {len(cities)}")


cities[:10]








#using this to look at dictionary keys
city=f'http://api.openweathermap.org/data/2.5/weather?appid={weather_api_key}&units=imperial&q=charlotte'
data=requests.get(city).json()
pprint(data,indent=2)


# Set the API base URL

url ="http://api.openweathermap.org/data/2.5/weather?"

query_url = f"{url}appid={weather_api_key}&units=metric&q="
# Define an empty list to fetch the weather data for each city
city_data = []

# Print to logger
print("Beginning Data Retrieval     ")
print("-----------------------------")

# Create counters
record_count = 1
set_count = 1

# Loop through all the cities in our list to fetch weather data
for i, city in enumerate(cities):
        
    # Group cities in sets of 50 for logging purposes
    if (i % 50 == 0 and i >= 50):
        set_count += 1
        record_count = 0

    # Create endpoint URL with each city
    city_url =(query_url + city)
    
    # Log the url, record, and set numbers
    print("Processing Record %s of Set %s | %s" % (record_count, set_count, city))

    # Add 1 to the record count
    record_count += 1

    # Run an API request for each of the cities
    try:
        # Parse the JSON and retrieve data
        city_weather = requests.get(city_url).json()

        # Parse out latitude, longitude, max temp, humidity, cloudiness, wind speed, country, and date
        city_lat = city_weather['coord']['lat']
        city_lng = city_weather['coord']['lon']
        city_max_temp = city_weather['main']['temp_max']
        city_humidity = city_weather['main']['humidity']
        city_clouds = city_weather['clouds']['all']
        city_wind = city_weather['wind']['speed']
        city_country = city_weather['sys']['country']
        city_date = city_weather['dt']

        # Append the City information into city_data list
        city_data.append({"City": city, 
                          "Lat": city_lat, 
                          "Lng": city_lng, 
                          "Max Temp": city_max_temp,
                          "Humidity": city_humidity,
                          "Cloudiness": city_clouds,
                          "Wind Speed": city_wind,
                          "Country": city_country,
                          "Date": city_date})

    # If an error is experienced, skip the city
    except:
        print("City not found. Skipping...")
        pass
              
# Indicate that Data Loading is complete 
print("-----------------------------")
print("Data Retrieval Complete      ")
print("-----------------------------")


# Convert the cities weather data into a Pandas DataFrame
city_data_df = pd.DataFrame(city_data)

# Show Record Count
city_data_df.count()


# Display sample data
city_data_df.head()


# Export the City_Data into a csv
city_data_df.to_csv("output_data/cities.csv", index_label="City_ID")


# Read saved data
city_data_df = pd.read_csv("output_data/cities.csv", index_col="City_ID")

# Display sample data
city_data_df.head()





# Build scatter plot for latitude vs. temperature
city_data_df.plot.scatter(['Lat'],['Max Temp'],xlabel='Latitude',ylabel='Max Temperature ($^\circ$C)',title=f'City Latitude vs. Max Temperature ({today})',
                          color='darkgreen',s=40)

# Incorporate the other graph properties
plt.grid(color='lightblue')

# Save the figure
plt.savefig("output_data/Fig1.png")

# Show plot
plt.show()





# Build the scatter plots for latitude vs. humidity
city_data_df.plot.scatter(['Lat'],['Humidity'],xlabel='Latitude',ylabel='Humidity (%)',title=f'City Latitude vs. Humidity ({today})',color='purple',s=40)

# Incorporate the other graph properties
plt.grid(color='lightblue')

# Save the figure
plt.savefig("output_data/Fig2.png")

# Show plot
plt.show()





# Build the scatter plots for latitude vs. cloudiness
city_data_df.plot.scatter(['Lat'],['Cloudiness'],xlabel='Latitude',ylabel='Cloudiness (%)',title=f'City Latitude vs. Cloudiness ({today})',color='grey',
                          edgecolors='black',s=40)
# Incorporate the other graph properties
plt.grid(color='lightblue')

# Save the figure
plt.savefig("output_data/Fig3.png")

# Show plot
plt.show()





# Build the scatter plots for latitude vs. wind speed
city_data_df.plot.scatter(['Lat'],['Wind Speed'],xlabel='Latitude',ylabel='Wind Speed (m/s)',title=f'City Latitude vs. Wind Speed ({today})',color='red',
                          edgecolors='black',s=40)

# Incorporate the other graph properties
plt.grid(color='lightgreen')

# Save the figure
plt.savefig("output_data/Fig4.png")

# Show plot
plt.show()





# Define a function to create Linear Regression plots
#dataframe=choose data frame
#stat= choose between max temp, humidity, cloudiness,etc
#x1=x coordinate for equation on graph
#y1=y coordinate for equation on graph
def get_linregress_lat_vs(dataframe,stat,x1,y1):
    results_list=st.linregress(dataframe['Lat'],dataframe[stat])
    slope=results_list[0]
    intercept=results_list[1]
    r_value=round(results_list[2],2)
    x=[dataframe['Lat'].min(),dataframe['Lat'].max()]
    y_pred=slope*np.array(x)+intercept
    dataframe.plot.scatter(['Lat'],[stat],xlabel='Latitude',ylabel=stat ,title=f'City Latitude vs. {stat} ({today})',color='blue')
    line_eq = "y = " + str(round(slope,2)) + "x + " + str(round(intercept,2))
    plt.annotate(line_eq,(x1,y1),fontsize=12,color="red")
    plt.grid()
    plt.plot(x,y_pred,color='red')
    print(f'The R value is: {r_value}')
    return plt.show()
    


# Create a DataFrame with the Northern Hemisphere data (Latitude >= 0)
northern_hemi_df=city_data_df.loc[(city_data_df['Lat']>=0)]

# Display sample data
northern_hemi_df.head()


# Create a DataFrame with the Southern Hemisphere data (Latitude < 0)
southern_hemi_df=city_data_df.loc[(city_data_df['Lat']<0)]

# Display sample data
southern_hemi_df.head()





# Linear regression on Northern Hemisphere
get_linregress_lat_vs(northern_hemi_df,'Max Temp',0,-10)



# Linear regression on Southern Hemisphere
get_linregress_lat_vs(southern_hemi_df,'Max Temp',-20,10)








# Northern Hemisphere
get_linregress_lat_vs(northern_hemi_df,'Humidity',50,5)


# Southern Hemisphere
get_linregress_lat_vs(southern_hemi_df,'Humidity',-20,30)








# Northern Hemisphere
get_linregress_lat_vs(northern_hemi_df,'Cloudiness',50,30)


# Southern Hemisphere
get_linregress_lat_vs(southern_hemi_df,'Cloudiness',-20,10)








# Northern Hemisphere
get_linregress_lat_vs(northern_hemi_df,'Wind Speed',50,14)


# Southern Hemisphere
get_linregress_lat_vs(southern_hemi_df,'Wind Speed',-20,10)






