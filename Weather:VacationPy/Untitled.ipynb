{
 "cells": [
  {
   "cell_type": "code",
   "execution_count": 7,
   "id": "db6a94fb-0320-424a-84f6-e26f093635f3",
   "metadata": {},
   "outputs": [],
   "source": [
    "# Dependencies and Setup\n",
    "import matplotlib.pyplot as plt\n",
    "import pandas as pd\n",
    "import numpy as np\n",
    "import requests\n",
    "import time\n",
    "from scipy.stats import linregress\n",
    "from pprint import pprint\n",
    "# Impor the OpenWeatherMap API key\n",
    "from api_keys import weather_api_key\n",
    "\n",
    "# Import citipy to determine the cities based on latitude and longitude\n",
    "from citipy import citipy"
   ]
  },
  {
   "cell_type": "code",
   "execution_count": 8,
   "id": "adfce3a2-c078-4b38-a8cd-95e68cd40718",
   "metadata": {},
   "outputs": [
    {
     "name": "stdout",
     "output_type": "stream",
     "text": [
      "Number of cities in the list: 616\n"
     ]
    }
   ],
   "source": [
    "# Empty list for holding the latitude and longitude combinations\n",
    "lat_lngs = []\n",
    "\n",
    "# Empty list for holding the cities names\n",
    "cities = []\n",
    "\n",
    "# Range of latitudes and longitudes\n",
    "lat_range = (-90, 90)\n",
    "lng_range = (-180, 180)\n",
    "\n",
    "# Create a set of random lat and lng combinations\n",
    "lats = np.random.uniform(lat_range[0], lat_range[1], size=1500)\n",
    "lngs = np.random.uniform(lng_range[0], lng_range[1], size=1500)\n",
    "lat_lngs = zip(lats, lngs)\n",
    "\n",
    "# Identify nearest city for each lat, lng combination\n",
    "for lat_lng in lat_lngs:\n",
    "    city = citipy.nearest_city(lat_lng[0], lat_lng[1]).city_name\n",
    "    \n",
    "    # If the city is unique, then add it to a our cities list\n",
    "    if city not in cities:\n",
    "        cities.append(city)\n",
    "\n",
    "# Print the city count to confirm sufficient count\n",
    "print(f\"Number of cities in the list: {len(cities)}\")"
   ]
  },
  {
   "cell_type": "code",
   "execution_count": 15,
   "id": "49ecccca-1b91-474f-974c-761061fa4f01",
   "metadata": {},
   "outputs": [
    {
     "data": {
      "text/plain": [
       "['lihue',\n",
       " \"karaidel'\",\n",
       " 'saint-philippe',\n",
       " 'okhotsk',\n",
       " 'thompson',\n",
       " 'westport',\n",
       " 'port-aux-francais',\n",
       " 'bredasdorp',\n",
       " 'ariquemes',\n",
       " 'qaqortoq']"
      ]
     },
     "execution_count": 15,
     "metadata": {},
     "output_type": "execute_result"
    }
   ],
   "source": [
    "cities_=cities[:10]\n",
    "cities_"
   ]
  },
  {
   "cell_type": "code",
   "execution_count": 21,
   "id": "af2072ae-0081-404d-94fe-dfc3cef08b9d",
   "metadata": {},
   "outputs": [],
   "source": [
    "url =\"http://api.openweathermap.org/data/2.5/weather?\"\n",
    "query_url = f\"{url}appid={weather_api_key}&units=metric&q=\"\n",
    "city_data = []\n",
    "\n",
    "for city in cities_:\n",
    "    city_url =(query_url + city)\n",
    "    city_weather = requests.get(city_url).json()\n",
    "    city_lat = city_weather['coord']['lat']\n",
    "    city_lng = city_weather['coord']['lon']        \n",
    "    city_max_temp = city_weather['main']['temp_max']\n",
    "    city_humidity = city_weather['main']['humidity']\n",
    "    city_clouds = city_weather['clouds']['all']\n",
    "    city_wind = city_weather['wind']['speed']\n",
    "    city_country = city_weather['sys']['country']\n",
    "    city_date = city_weather['dt']\n",
    "    city_data.append({\"City\": city, \n",
    "                          \"Lat\": city_lat, \n",
    "                          \"Lng\": city_lng, \n",
    "                          \"Max Temp\": city_max_temp,\n",
    "                          \"Humidity\": city_humidity,\n",
    "                          \"Cloudiness\": city_clouds,\n",
    "                          \"Wind Speed\": city_wind,\n",
    "                          \"Country\": city_country,\n",
    "                          \"Date\": city_date})\n",
    "\n"
   ]
  },
  {
   "cell_type": "code",
   "execution_count": 22,
   "id": "04d79d5b-b375-4675-9d98-1cb68789bf2e",
   "metadata": {},
   "outputs": [
    {
     "data": {
      "text/plain": [
       "[{'City': 'lihue',\n",
       "  'Lat': 21.9789,\n",
       "  'Lng': -159.3672,\n",
       "  'Max Temp': 21.31,\n",
       "  'Humidity': 79,\n",
       "  'Cloudiness': 20,\n",
       "  'Wind Speed': 9.26,\n",
       "  'Country': 'US',\n",
       "  'Date': 1710073718},\n",
       " {'City': \"karaidel'\",\n",
       "  'Lat': 55.8337,\n",
       "  'Lng': 56.9069,\n",
       "  'Max Temp': -5.83,\n",
       "  'Humidity': 93,\n",
       "  'Cloudiness': 100,\n",
       "  'Wind Speed': 2.27,\n",
       "  'Country': 'RU',\n",
       "  'Date': 1710073855},\n",
       " {'City': 'saint-philippe',\n",
       "  'Lat': -21.3585,\n",
       "  'Lng': 55.7679,\n",
       "  'Max Temp': 28.77,\n",
       "  'Humidity': 78,\n",
       "  'Cloudiness': 2,\n",
       "  'Wind Speed': 6.38,\n",
       "  'Country': 'RE',\n",
       "  'Date': 1710073855},\n",
       " {'City': 'okhotsk',\n",
       "  'Lat': 59.3833,\n",
       "  'Lng': 143.3,\n",
       "  'Max Temp': -19.36,\n",
       "  'Humidity': 97,\n",
       "  'Cloudiness': 88,\n",
       "  'Wind Speed': 2.11,\n",
       "  'Country': 'RU',\n",
       "  'Date': 1710073876},\n",
       " {'City': 'thompson',\n",
       "  'Lat': 55.7435,\n",
       "  'Lng': -97.8558,\n",
       "  'Max Temp': -6.91,\n",
       "  'Humidity': 68,\n",
       "  'Cloudiness': 75,\n",
       "  'Wind Speed': 1.54,\n",
       "  'Country': 'CA',\n",
       "  'Date': 1710073876},\n",
       " {'City': 'westport',\n",
       "  'Lat': 41.1415,\n",
       "  'Lng': -73.3579,\n",
       "  'Max Temp': 6.99,\n",
       "  'Humidity': 87,\n",
       "  'Cloudiness': 100,\n",
       "  'Wind Speed': 3.6,\n",
       "  'Country': 'US',\n",
       "  'Date': 1710073876},\n",
       " {'City': 'port-aux-francais',\n",
       "  'Lat': -49.35,\n",
       "  'Lng': 70.2167,\n",
       "  'Max Temp': 7.27,\n",
       "  'Humidity': 82,\n",
       "  'Cloudiness': 17,\n",
       "  'Wind Speed': 12,\n",
       "  'Country': 'TF',\n",
       "  'Date': 1710073620},\n",
       " {'City': 'bredasdorp',\n",
       "  'Lat': -34.5322,\n",
       "  'Lng': 20.0403,\n",
       "  'Max Temp': 26.02,\n",
       "  'Humidity': 42,\n",
       "  'Cloudiness': 0,\n",
       "  'Wind Speed': 4.43,\n",
       "  'Country': 'ZA',\n",
       "  'Date': 1710073859},\n",
       " {'City': 'ariquemes',\n",
       "  'Lat': -9.9133,\n",
       "  'Lng': -63.0408,\n",
       "  'Max Temp': 26.86,\n",
       "  'Humidity': 86,\n",
       "  'Cloudiness': 95,\n",
       "  'Wind Speed': 0.57,\n",
       "  'Country': 'BR',\n",
       "  'Date': 1710073859},\n",
       " {'City': 'qaqortoq',\n",
       "  'Lat': 60.7167,\n",
       "  'Lng': -46.0333,\n",
       "  'Max Temp': -8.49,\n",
       "  'Humidity': 86,\n",
       "  'Cloudiness': 5,\n",
       "  'Wind Speed': 2.48,\n",
       "  'Country': 'GL',\n",
       "  'Date': 1710073860}]"
      ]
     },
     "execution_count": 22,
     "metadata": {},
     "output_type": "execute_result"
    }
   ],
   "source": [
    "city_data"
   ]
  },
  {
   "cell_type": "code",
   "execution_count": null,
   "id": "aca78614-7581-4aab-adaa-74842da11a17",
   "metadata": {},
   "outputs": [],
   "source": []
  }
 ],
 "metadata": {
  "kernelspec": {
   "display_name": "Python 3 (ipykernel)",
   "language": "python",
   "name": "python3"
  },
  "language_info": {
   "codemirror_mode": {
    "name": "ipython",
    "version": 3
   },
   "file_extension": ".py",
   "mimetype": "text/x-python",
   "name": "python",
   "nbconvert_exporter": "python",
   "pygments_lexer": "ipython3",
   "version": "3.11.5"
  }
 },
 "nbformat": 4,
 "nbformat_minor": 5
}
